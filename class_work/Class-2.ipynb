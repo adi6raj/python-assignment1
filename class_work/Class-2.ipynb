{
 "cells": [
  {
   "cell_type": "markdown",
   "id": "a1b817aa",
   "metadata": {},
   "source": [
    "# Lecture_2  (  23/08/2024) "
   ]
  },
  {
   "cell_type": "markdown",
   "id": "fb1dd285",
   "metadata": {},
   "source": [
    "# string methods/function"
   ]
  },
  {
   "cell_type": "code",
   "execution_count": 1,
   "id": "23d8ce34",
   "metadata": {},
   "outputs": [
    {
     "data": {
      "text/plain": [
       "'Love Upes'"
      ]
     },
     "execution_count": 1,
     "metadata": {},
     "output_type": "execute_result"
    }
   ],
   "source": [
    "x=\"hello Upes\"\n",
    "x.replace('hello','Love')"
   ]
  },
  {
   "cell_type": "code",
   "execution_count": 2,
   "id": "da428be4",
   "metadata": {},
   "outputs": [
    {
     "data": {
      "text/plain": [
       "2282983387120"
      ]
     },
     "execution_count": 2,
     "metadata": {},
     "output_type": "execute_result"
    }
   ],
   "source": [
    "id(x)"
   ]
  },
  {
   "cell_type": "code",
   "execution_count": 3,
   "id": "6497143b",
   "metadata": {},
   "outputs": [
    {
     "data": {
      "text/plain": [
       "str"
      ]
     },
     "execution_count": 3,
     "metadata": {},
     "output_type": "execute_result"
    }
   ],
   "source": [
    "type(x)"
   ]
  },
  {
   "cell_type": "code",
   "execution_count": 4,
   "id": "f5948847",
   "metadata": {},
   "outputs": [
    {
     "data": {
      "text/plain": [
       "'hello hello'"
      ]
     },
     "execution_count": 4,
     "metadata": {},
     "output_type": "execute_result"
    }
   ],
   "source": [
    "x.replace(\"Upes\",\"hello\")"
   ]
  },
  {
   "cell_type": "code",
   "execution_count": 5,
   "id": "93925f6a",
   "metadata": {},
   "outputs": [],
   "source": [
    "## string is immutable , therefore ID change nhi hogi , it will remain permanent"
   ]
  },
  {
   "cell_type": "code",
   "execution_count": 6,
   "id": "cd196aff",
   "metadata": {},
   "outputs": [
    {
     "data": {
      "text/plain": [
       "10"
      ]
     },
     "execution_count": 6,
     "metadata": {},
     "output_type": "execute_result"
    }
   ],
   "source": [
    "# length of string\n",
    "len(x)"
   ]
  },
  {
   "cell_type": "code",
   "execution_count": 7,
   "id": "d758e934",
   "metadata": {},
   "outputs": [
    {
     "name": "stdout",
     "output_type": "stream",
     "text": [
      "10\n"
     ]
    }
   ],
   "source": [
    "str2=\"0123456789\"\n",
    "print(len(str2))\n",
    "# the range is from 0 to N-1"
   ]
  },
  {
   "cell_type": "code",
   "execution_count": 8,
   "id": "dfd2483b",
   "metadata": {},
   "outputs": [
    {
     "data": {
      "text/plain": [
       "'0'"
      ]
     },
     "execution_count": 8,
     "metadata": {},
     "output_type": "execute_result"
    }
   ],
   "source": [
    "# access the first index of the string\n",
    "str2[0]"
   ]
  },
  {
   "cell_type": "code",
   "execution_count": 25,
   "id": "2249fb18",
   "metadata": {},
   "outputs": [
    {
     "ename": "IndexError",
     "evalue": "string index out of range",
     "output_type": "error",
     "traceback": [
      "\u001b[1;31m---------------------------------------------------------------------------\u001b[0m",
      "\u001b[1;31mIndexError\u001b[0m                                Traceback (most recent call last)",
      "Cell \u001b[1;32mIn[25], line 3\u001b[0m\n\u001b[0;32m      1\u001b[0m \u001b[38;5;66;03m# agar index jada put kar dey toh Exception show hoga : array index out of bound\u001b[39;00m\n\u001b[1;32m----> 3\u001b[0m str2[\u001b[38;5;241m12\u001b[39m]\n",
      "\u001b[1;31mIndexError\u001b[0m: string index out of range"
     ]
    }
   ],
   "source": [
    "# agar index jada put kar dey toh Exception show hoga : array index out of bound\n",
    "\n",
    "str2[12]"
   ]
  },
  {
   "cell_type": "code",
   "execution_count": 10,
   "id": "ad528966",
   "metadata": {},
   "outputs": [
    {
     "data": {
      "text/plain": [
       "'01234'"
      ]
     },
     "execution_count": 10,
     "metadata": {},
     "output_type": "execute_result"
    }
   ],
   "source": [
    "str2[0:5]  "
   ]
  },
  {
   "cell_type": "code",
   "execution_count": 11,
   "id": "89c0df54",
   "metadata": {},
   "outputs": [
    {
     "data": {
      "text/plain": [
       "'0123456789'"
      ]
     },
     "execution_count": 11,
     "metadata": {},
     "output_type": "execute_result"
    }
   ],
   "source": [
    "# to print the complete string using slicing \n",
    "str2[0:len(str2)]\n",
    "\n",
    "# or\n",
    "str2[0:]"
   ]
  },
  {
   "cell_type": "markdown",
   "id": "83944452",
   "metadata": {},
   "source": [
    "## Type conversion in python"
   ]
  },
  {
   "cell_type": "code",
   "execution_count": 12,
   "id": "57e135eb",
   "metadata": {},
   "outputs": [
    {
     "data": {
      "text/plain": [
       "5"
      ]
     },
     "execution_count": 12,
     "metadata": {},
     "output_type": "execute_result"
    }
   ],
   "source": [
    "# x=10/2\n",
    "# x\n",
    "\n",
    "# need to get output only 5 instead of 5.0\n",
    "x=int(10/2)\n",
    "x"
   ]
  },
  {
   "cell_type": "code",
   "execution_count": 13,
   "id": "cadc7473",
   "metadata": {},
   "outputs": [
    {
     "data": {
      "text/plain": [
       "False"
      ]
     },
     "execution_count": 13,
     "metadata": {},
     "output_type": "execute_result"
    }
   ],
   "source": [
    "bool(0)"
   ]
  },
  {
   "cell_type": "code",
   "execution_count": 14,
   "id": "e89aa290",
   "metadata": {},
   "outputs": [
    {
     "data": {
      "text/plain": [
       "True"
      ]
     },
     "execution_count": 14,
     "metadata": {},
     "output_type": "execute_result"
    }
   ],
   "source": [
    "bool(-1)\n",
    "# In Python, any non-zero value is considered True when evaluated as a boolean. This includes negative numbers like -1."
   ]
  },
  {
   "cell_type": "code",
   "execution_count": 15,
   "id": "955e68b6",
   "metadata": {},
   "outputs": [
    {
     "name": "stdout",
     "output_type": "stream",
     "text": [
      "10001.000012\n"
     ]
    }
   ],
   "source": [
    "a=-10001.000012\n",
    "print(abs(a))"
   ]
  },
  {
   "cell_type": "code",
   "execution_count": 16,
   "id": "f2e49e85",
   "metadata": {},
   "outputs": [
    {
     "data": {
      "text/plain": [
       "-10001.0"
      ]
     },
     "execution_count": 16,
     "metadata": {},
     "output_type": "execute_result"
    }
   ],
   "source": [
    "round(a,2)"
   ]
  },
  {
   "cell_type": "markdown",
   "id": "c2b1a006",
   "metadata": {},
   "source": [
    "## List in python"
   ]
  },
  {
   "cell_type": "code",
   "execution_count": 17,
   "id": "7d06de28",
   "metadata": {},
   "outputs": [
    {
     "data": {
      "text/plain": [
       "[1, 2, 3, 4]"
      ]
     },
     "execution_count": 17,
     "metadata": {},
     "output_type": "execute_result"
    }
   ],
   "source": [
    "a=[1,2,3,4]\n",
    "a"
   ]
  },
  {
   "cell_type": "code",
   "execution_count": 18,
   "id": "6b504239",
   "metadata": {},
   "outputs": [
    {
     "data": {
      "text/plain": [
       "1"
      ]
     },
     "execution_count": 18,
     "metadata": {},
     "output_type": "execute_result"
    }
   ],
   "source": [
    "a[0]"
   ]
  },
  {
   "cell_type": "code",
   "execution_count": 19,
   "id": "dd20e857",
   "metadata": {},
   "outputs": [
    {
     "data": {
      "text/plain": [
       "[10, 2, 3, 4]"
      ]
     },
     "execution_count": 19,
     "metadata": {},
     "output_type": "execute_result"
    }
   ],
   "source": [
    "# changing the value of index 0\n",
    "a[0]=10\n",
    "a\n",
    "# this prove that list are mutable "
   ]
  },
  {
   "cell_type": "code",
   "execution_count": 20,
   "id": "83ab9e80",
   "metadata": {},
   "outputs": [
    {
     "data": {
      "text/plain": [
       "19"
      ]
     },
     "execution_count": 20,
     "metadata": {},
     "output_type": "execute_result"
    }
   ],
   "source": [
    "# using inbuilt function\n",
    "sum(a)"
   ]
  },
  {
   "cell_type": "markdown",
   "id": "f7b5fc5d",
   "metadata": {},
   "source": [
    "# Input function"
   ]
  },
  {
   "cell_type": "code",
   "execution_count": 21,
   "id": "d2f4a49d",
   "metadata": {},
   "outputs": [
    {
     "name": "stdin",
     "output_type": "stream",
     "text": [
      "Enter your name:  aditya\n"
     ]
    },
    {
     "name": "stdout",
     "output_type": "stream",
     "text": [
      "my name is aditya\n"
     ]
    }
   ],
   "source": [
    "name=input(\"Enter your name: \")\n",
    "print(f\"my name is {name}\")"
   ]
  },
  {
   "cell_type": "markdown",
   "id": "e4d0a3d0",
   "metadata": {},
   "source": [
    "## finding the size of function  -> help in optimizationp purpose "
   ]
  },
  {
   "cell_type": "code",
   "execution_count": 22,
   "id": "ffd7985e",
   "metadata": {},
   "outputs": [
    {
     "name": "stdout",
     "output_type": "stream",
     "text": [
      "Size of x:28 bytes\n"
     ]
    }
   ],
   "source": [
    "import sys # Sys are in built function\n",
    "\n",
    "x=42\n",
    "size=sys.getsizeof(x)\n",
    "print(f\"Size of x:{size} bytes\")"
   ]
  },
  {
   "cell_type": "markdown",
   "id": "54faa1e2",
   "metadata": {},
   "source": [
    "## Function"
   ]
  },
  {
   "cell_type": "code",
   "execution_count": 24,
   "id": "84368096",
   "metadata": {},
   "outputs": [
    {
     "name": "stdin",
     "output_type": "stream",
     "text": [
      "enter the number 6\n"
     ]
    },
    {
     "name": "stdout",
     "output_type": "stream",
     "text": [
      "Value is 6 \n",
      "Value  of ID is 140717034781272\n",
      "Value  of ID is <class 'int'>\n",
      "Value is 6 \n",
      "Value  of ID is 140717034781272\n",
      "Value  of ID is <class 'int'>\n"
     ]
    }
   ],
   "source": [
    "# syntax of function\n",
    "\n",
    "\n",
    "def display(testvar):\n",
    "    print(f\"Value is {testvar} \")\n",
    "    print(f\"Value  of ID is {id(testvar)}\")\n",
    "    print(f\"Value  of ID is {type(testvar)}\")\n",
    "\n",
    "a=int(input(\"enter the number\"))\n",
    "display(a)\n",
    "display(a)"
   ]
  }
 ],
 "metadata": {
  "kernelspec": {
   "display_name": "Python 3 (ipykernel)",
   "language": "python",
   "name": "python3"
  },
  "language_info": {
   "codemirror_mode": {
    "name": "ipython",
    "version": 3
   },
   "file_extension": ".py",
   "mimetype": "text/x-python",
   "name": "python",
   "nbconvert_exporter": "python",
   "pygments_lexer": "ipython3",
   "version": "3.12.4"
  }
 },
 "nbformat": 4,
 "nbformat_minor": 5
}
