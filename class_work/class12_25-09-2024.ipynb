{
 "cells": [
  {
   "cell_type": "code",
   "execution_count": 6,
   "id": "fbe02270-599b-49de-a31a-7a58aa476c6d",
   "metadata": {},
   "outputs": [],
   "source": [
    "import time as t\n",
    "def testFn():\n",
    "    pass\n",
    "    startTime = t.time()\n",
    "    testFn()\n",
    "    endTime = t.time()\n",
    "    runTimeInSec = endTime.startTime\n",
    "    print(f\"\\n time to execute function is {runTimeInSec/60} min\")"
   ]
  },
  {
   "cell_type": "code",
   "execution_count": null,
   "id": "a4f747fc-01f6-47c0-a672-cb86cccd77fa",
   "metadata": {},
   "outputs": [],
   "source": []
  }
 ],
 "metadata": {
  "kernelspec": {
   "display_name": "Python 3 (ipykernel)",
   "language": "python",
   "name": "python3"
  },
  "language_info": {
   "codemirror_mode": {
    "name": "ipython",
    "version": 3
   },
   "file_extension": ".py",
   "mimetype": "text/x-python",
   "name": "python",
   "nbconvert_exporter": "python",
   "pygments_lexer": "ipython3",
   "version": "3.12.4"
  }
 },
 "nbformat": 4,
 "nbformat_minor": 5
}
