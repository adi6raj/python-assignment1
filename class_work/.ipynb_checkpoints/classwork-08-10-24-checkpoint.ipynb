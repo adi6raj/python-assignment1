{
 "cells": [
  {
   "cell_type": "code",
   "execution_count": 1,
   "id": "ae6fd517-f34c-4255-87b2-5f7409ad81da",
   "metadata": {},
   "outputs": [
    {
     "name": "stdout",
     "output_type": "stream",
     "text": [
      "0\n",
      "(6.123233995736766e-17+1j)\n",
      "(9.899494936611665, 0.7853981633974483)\n"
     ]
    }
   ],
   "source": [
    "import math\n",
    "\n",
    "# Problem\n",
    "#we are given 2D coordinates of following points (0,1), (2,4), (3,6), and (7,7).\n",
    "\n",
    "#1. Store following data in python and write a function to determint distance between two points.\n",
    "#1. Write a function to estimate polar coordinate of any point.\n",
    "#1. Write a function that moves point and determines new position when movement is given\n",
    "# Store the points in a list of tuples\n",
    "\n",
    "p1 = {'x': 0, 'y': 1}\n",
    "p2 = {'x': 2, 'y': 4}\n",
    "p3 = {'x': 3, 'y': 6}\n",
    "p4 = {'x': 7, 'y': 7}\n",
    "\n",
    "print(p1[\"x\"])\n",
    "\n",
    "def distance(p1, p2):\n",
    "    x1 = p1['x']\n",
    "    x2 = p2['x']\n",
    "    y1 = p1['y']\n",
    "    y2 = p2['y']\n",
    "    d = ( (x2 -x1)^2 + (y2 - y1)^2)**(1/2)\n",
    "    return d\n",
    "\n",
    "def polar(p1):\n",
    "    x = p1['x']\n",
    "    y = p1['y']\n",
    "    r = math.sqrt(x**2 + y**2)\n",
    "    phi = math.atan2(y, x)\n",
    "    \n",
    "    return (r, phi)\n",
    "\n",
    "print(distance(p4,p3))\n",
    "print(polar(p4))"
   ]
  },
  {
   "cell_type": "code",
   "execution_count": null,
   "id": "4140bccb-67cc-4d3c-b9a8-8729d2385cfb",
   "metadata": {},
   "outputs": [],
   "source": []
  }
 ],
 "metadata": {
  "kernelspec": {
   "display_name": "Python 3 (ipykernel)",
   "language": "python",
   "name": "python3"
  },
  "language_info": {
   "codemirror_mode": {
    "name": "ipython",
    "version": 3
   },
   "file_extension": ".py",
   "mimetype": "text/x-python",
   "name": "python",
   "nbconvert_exporter": "python",
   "pygments_lexer": "ipython3",
   "version": "3.12.4"
  }
 },
 "nbformat": 4,
 "nbformat_minor": 5
}
