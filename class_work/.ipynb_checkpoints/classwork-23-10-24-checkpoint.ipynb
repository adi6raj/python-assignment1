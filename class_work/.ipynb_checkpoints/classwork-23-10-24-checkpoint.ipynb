{
 "cells": [
  {
   "cell_type": "code",
   "execution_count": 1,
   "id": "b10160b5-7d03-4106-aea2-2d3d1ec39d5e",
   "metadata": {},
   "outputs": [
    {
     "name": "stdout",
     "output_type": "stream",
     "text": [
      "[1, 4, 9, 16, 25, 36, 49, 64, 81, 100]\n",
      "{1: 1, 2: 4, 3: 9, 4: 16, 5: 25, 6: 36, 7: 49, 8: 64, 9: 81, 10: 100}\n",
      "{1: 'a', 2: 'b', 3: 'c'}\n"
     ]
    }
   ],
   "source": [
    "# write a program to create a list of squares of numbers from 1 to n using list compernsion ?\n",
    "\n",
    "def list_of_squares(n):\n",
    "    return [i**2 for i in range(1, n+1)]\n",
    "\n",
    "n = 10\n",
    "squares = list_of_squares(n)\n",
    "print(squares)\n",
    "\n",
    "# Write a program that use dictonery compernsion to create a dictonery where keys are number and values are square number ?\n",
    "\n",
    "def dict_of_squares(n):\n",
    "    return {i: i**2 for i in range(1, n+1)}\n",
    "\n",
    "n = 10\n",
    "squares_dict = dict_of_squares(n)\n",
    "print(squares_dict)\n",
    "\n",
    "# Write a function that takes a argumnet that is dictonery and returns where keys are value and values are keys ?\n",
    "\n",
    "def invert_dict(d):\n",
    "    return {v: k for k, v in d.items()}\n",
    "\n",
    "original_dict = {'a': 1, 'b': 2, 'c': 3}\n",
    "inverted_dict = invert_dict(original_dict)\n",
    "print(inverted_dict)"
   ]
  },
  {
   "cell_type": "code",
   "execution_count": null,
   "id": "bb508578-cd1c-45ef-a25a-897abbd69f92",
   "metadata": {},
   "outputs": [],
   "source": []
  }
 ],
 "metadata": {
  "kernelspec": {
   "display_name": "Python 3 (ipykernel)",
   "language": "python",
   "name": "python3"
  },
  "language_info": {
   "codemirror_mode": {
    "name": "ipython",
    "version": 3
   },
   "file_extension": ".py",
   "mimetype": "text/x-python",
   "name": "python",
   "nbconvert_exporter": "python",
   "pygments_lexer": "ipython3",
   "version": "3.12.4"
  }
 },
 "nbformat": 4,
 "nbformat_minor": 5
}
