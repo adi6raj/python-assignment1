{
 "cells": [
  {
   "cell_type": "code",
   "execution_count": 1,
   "id": "144ed9e6-e8ee-441e-bfac-4829f1511cef",
   "metadata": {},
   "outputs": [
    {
     "name": "stdout",
     "output_type": "stream",
     "text": [
      "file '(file_name)'download successfully.\n",
      "Done\n"
     ]
    }
   ],
   "source": [
    "from os import name\n",
    "import requests # type: ignore\n",
    "\n",
    "def download_file (url, file_name):\n",
    "    response= requests.get(url)\n",
    "    \n",
    "    if response.status_code==200:\n",
    "        with open(file_name, 'wb') as file:\n",
    "            file.write(response.content)\n",
    "            \n",
    "            print(f\"file '(file_name)'download successfully.\")\n",
    "            \n",
    "    else:\n",
    "        print(f\"failed to download file. status code: {response.status_code}\")\n",
    "        \n",
    "    \n",
    "    \n",
    "\n",
    "url='https://raw.githubusercontent.com/dominictarr/random-name/refs/heads/master/first-names.txt'\n",
    "file_name=  'file.txt'\n",
    "download_file(url, file_name)\n",
    "print(\"Done\")"
   ]
  },
  {
   "cell_type": "code",
   "execution_count": null,
   "id": "34c65faa-13a3-4959-8ae0-227bbbdd2e26",
   "metadata": {},
   "outputs": [],
   "source": [
    "import os\n",
    "import subprocess\n",
    "import tkinter as tk\n",
    "from tkinter import filedialog, messagebox\n",
    "\n",
    "# Function to browse and select directory\n",
    "def browse_directory():\n",
    "    directory = filedialog.askdirectory()\n",
    "    directory_entry.delete(0, tk.END)  # Clear the current directory path\n",
    "    directory_entry.insert(0, directory)  # Insert the selected directory\n",
    "\n",
    "# Function to download the file using curl\n",
    "def download_file():\n",
    "    url = url_entry.get()\n",
    "    directory = directory_entry.get()\n",
    "\n",
    "    if not url or not directory:\n",
    "        messagebox.showerror(\"Error\", \"Please provide both URL and Directory path\")\n",
    "        return\n",
    "\n",
    "    output_file = os.path.join(directory, url.split(\"/\")[-1])\n",
    "\n",
    "    # Run curl command\n",
    "    result = subprocess.run([\"curl\", \"-o\", output_file, url])\n",
    "\n",
    "    if result.returncode == 0:\n",
    "        messagebox.showinfo(\"Success\", f\"File downloaded successfully to {output_file}\")\n",
    "    else:\n",
    "        messagebox.showerror(\"Error\", \"Failed to download file\")\n",
    "\n",
    "# GUI setup\n",
    "root = tk.Tk()\n",
    "root.title(\"File Downloader\")\n",
    "\n",
    "# URL input\n",
    "tk.Label(root, text=\"File URL:\").grid(row=0, column=0, padx=10, pady=10)\n",
    "url_entry = tk.Entry(root, width=50)\n",
    "url_entry.grid(row=0, column=1, padx=10, pady=10)\n",
    "\n",
    "# Directory input\n",
    "tk.Label(root, text=\"Directory Path:\").grid(row=1, column=0, padx=10, pady=10)\n",
    "directory_entry = tk.Entry(root, width=50)\n",
    "directory_entry.grid(row=1, column=1, padx=10, pady=10)\n",
    "\n",
    "# Browse button\n",
    "browse_button = tk.Button(root, text=\"Browse\", command=browse_directory)\n",
    "browse_button.grid(row=1, column=2, padx=10, pady=10)\n",
    "\n",
    "# Download button\n",
    "download_button = tk.Button(root, text=\"Download\", command=download_file)\n",
    "download_button.grid(row=2, column=1, pady=10)\n",
    "\n",
    "root.mainloop()"
   ]
  },
  {
   "cell_type": "code",
   "execution_count": null,
   "id": "97c93149-6d7a-456e-bee9-c005fa7dd052",
   "metadata": {},
   "outputs": [],
   "source": [
    "import tkinter as tk\n",
    "\n",
    "from fileDownloader import download_file \n",
    "root=tk.Tk()\n",
    "root.title(\"file Downloader\")\n",
    "root.geometry(\"600x250\")\n",
    "\n",
    "label=tk.label (root, text=\"enter the URL of the file to be download:\")\n",
    "\n",
    "URLWidget = tk.Entry(root, width=50)\n",
    "URLWidget.pack()\n",
    "\n",
    "fileNameWidget = tk.label(root,text=\"Enter the name of the file to save:\")\n",
    "fileNameWidget.pack()\n",
    "\n",
    "def download():\n",
    "    url=URLWidget.get()\n",
    "    file_name = fileNameWidget.get()\n",
    "    download_file(url, file_name)\n",
    "    \n",
    "downloadButton = tk. Button(root, text=\"download\", command = download)\n",
    "downloadButton.pack()\n",
    "root.mainloop()"
   ]
  },
  {
   "cell_type": "code",
   "execution_count": null,
   "id": "a0e99f0a-2171-4100-8351-32350fedf12e",
   "metadata": {},
   "outputs": [],
   "source": []
  }
 ],
 "metadata": {
  "kernelspec": {
   "display_name": "Python 3 (ipykernel)",
   "language": "python",
   "name": "python3"
  },
  "language_info": {
   "codemirror_mode": {
    "name": "ipython",
    "version": 3
   },
   "file_extension": ".py",
   "mimetype": "text/x-python",
   "name": "python",
   "nbconvert_exporter": "python",
   "pygments_lexer": "ipython3",
   "version": "3.12.4"
  }
 },
 "nbformat": 4,
 "nbformat_minor": 5
}
