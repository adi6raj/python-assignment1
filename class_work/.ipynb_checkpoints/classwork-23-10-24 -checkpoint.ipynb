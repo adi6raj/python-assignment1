{
 "cells": [
  {
   "cell_type": "markdown",
   "id": "036e3109-65df-4d38-8f68-6a6656ff9f39",
   "metadata": {},
   "source": [
    "1. wap to create a list of squares of numbers from 1 to n using list comprehension"
   ]
  },
  {
   "cell_type": "code",
   "execution_count": 7,
   "id": "da05ee55-e804-4e15-a08a-51557e474855",
   "metadata": {},
   "outputs": [
    {
     "name": "stdin",
     "output_type": "stream",
     "text": [
      " 5\n"
     ]
    },
    {
     "name": "stdout",
     "output_type": "stream",
     "text": [
      "[0]\n"
     ]
    }
   ],
   "source": [
    "n = int(input())\n",
    "a = [i*2 for i in range(n) if i*2 % 10 == 0]\n",
    "print(a)"
   ]
  },
  {
   "cell_type": "markdown",
   "id": "cadb7b0b-0803-4220-a72f-ea09a58e7c14",
   "metadata": {},
   "source": [
    "2. wap a function that takes an argument that is dictionary and return a dictionary where keys are value & values are key"
   ]
  },
  {
   "cell_type": "code",
   "execution_count": 9,
   "id": "4faefd32-6571-4e9d-8ab0-e9ea3bb9fb42",
   "metadata": {},
   "outputs": [
    {
     "name": "stdout",
     "output_type": "stream",
     "text": [
      "{0: 0, 1: 1, 4: 2, 9: 3, 16: 4, 25: 5}\n"
     ]
    }
   ],
   "source": [
    "def swap(a):\n",
    "    assert isinstance(a, dict), \"Input is not dictionary\"\n",
    "    return {value: key for key, value in a.items()}\n",
    "\n",
    "c = swap(b)\n",
    "print(c)"
   ]
  },
  {
   "cell_type": "markdown",
   "id": "f443f6c7-78de-416c-8912-aceebb70dabf",
   "metadata": {},
   "source": [
    "3. wap using dictionary comprehension to create a dictionary where keys are numbers and values are squares of numbers"
   ]
  },
  {
   "cell_type": "code",
   "execution_count": 8,
   "id": "d468d7b1-b4c5-4ca2-9aba-e28c025626a3",
   "metadata": {},
   "outputs": [
    {
     "name": "stdout",
     "output_type": "stream",
     "text": [
      "{0: 0, 1: 1, 2: 4, 3: 9, 4: 16, 5: 25}\n"
     ]
    }
   ],
   "source": [
    "b = {i: i**2 for i in range(n+1)}\n",
    "print(b)"
   ]
  },
  {
   "cell_type": "code",
   "execution_count": null,
   "id": "f110632e-5c9c-4b74-835c-8923572ffa49",
   "metadata": {},
   "outputs": [],
   "source": []
  }
 ],
 "metadata": {
  "kernelspec": {
   "display_name": "Python 3 (ipykernel)",
   "language": "python",
   "name": "python3"
  },
  "language_info": {
   "codemirror_mode": {
    "name": "ipython",
    "version": 3
   },
   "file_extension": ".py",
   "mimetype": "text/x-python",
   "name": "python",
   "nbconvert_exporter": "python",
   "pygments_lexer": "ipython3",
   "version": "3.12.4"
  }
 },
 "nbformat": 4,
 "nbformat_minor": 5
}
