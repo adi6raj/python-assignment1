{
 "cells": [
  {
   "cell_type": "code",
   "execution_count": 1,
   "metadata": {},
   "outputs": [
    {
     "name": "stdin",
     "output_type": "stream",
     "text": [
      "Enter your name: aditya\n",
      "Enter your course: mca\n"
     ]
    },
    {
     "name": "stdout",
     "output_type": "stream",
     "text": [
      "Name: aditya\n",
      "Course Name: mca\n",
      "Python Version: 3.12.4 | packaged by Anaconda, Inc. | (main, Jun 18 2024, 15:03:56) [MSC v.1929 64 bit (AMD64)]\n"
     ]
    }
   ],
   "source": [
    "import sys\n",
    "\n",
    "#Take two variable one for name and another for course\n",
    "name = input(\"Enter your name:\")\n",
    "course_name = input(\"Enter your course:\")\n",
    "\n",
    "# Print the information\n",
    "print(\"Name:\", name)\n",
    "print(\"Course Name:\", course_name)\n",
    "print(\"Python Version:\", sys.version)"
   ]
  },
  {
   "cell_type": "code",
   "execution_count": 9,
   "metadata": {},
   "outputs": [
    {
     "name": "stdout",
     "output_type": "stream",
     "text": [
      "HELLO , PYTHON WORLD\n"
     ]
    }
   ],
   "source": [
    "a = \"HELLO , PYTHON WORLD\" \n",
    "print(a)"
   ]
  },
  {
   "cell_type": "code",
   "execution_count": 2,
   "metadata": {},
   "outputs": [
    {
     "name": "stdin",
     "output_type": "stream",
     "text": [
      "Enter your first name:  aditya \n",
      "Enter your last name:  kumar\n"
     ]
    },
    {
     "name": "stdout",
     "output_type": "stream",
     "text": [
      " aytida ramuk\n"
     ]
    }
   ],
   "source": [
    "\n",
    "#Take two variable first for first name and second for last name\n",
    "first_name = input(\"Enter your first name: \")\n",
    "last_name = input(\"Enter your last name: \")\n",
    "\n",
    "#concatenate the last name and first name with space \n",
    "reversed_name = last_name + \" \" + first_name\n",
    "\n",
    "# print the reversed name\n",
    "print(reversed_name[::-1])"
   ]
  },
  {
   "cell_type": "code",
   "execution_count": 3,
   "metadata": {},
   "outputs": [
    {
     "name": "stdin",
     "output_type": "stream",
     "text": [
      "Enter a number:  3\n"
     ]
    },
    {
     "name": "stdout",
     "output_type": "stream",
     "text": [
      "Integer: 3\n",
      "Float: 3.0\n",
      "Complex: (3+0j)\n"
     ]
    }
   ],
   "source": [
    "num = input(\"Enter a number: \")\n",
    "\n",
    "# Convert to integer\n",
    "integer_num = int(num)\n",
    "print(\"Integer:\", integer_num)\n",
    "\n",
    "# Explanation: Integers are whole numbers without decimal points.\n",
    "# They can be positive, negative, or zero.\n",
    "\n",
    "# Convert to float\n",
    "float_num = float(num)\n",
    "print(\"Float:\", float_num)\n",
    "\n",
    "# Explanation: Floats are numbers with decimal points. They can represent\n",
    "# fractional values and have a wider range than integers.\n",
    "\n",
    "# Convert to complex\n",
    "complex_num = complex(num)\n",
    "print(\"Complex:\", complex_num)\n",
    "\n",
    "# Explanation: Complex numbers are numbers that have a real part and an imaginary part.\n",
    "# They are represented as a + bi, where a is the real part and b is the imaginary part."
   ]
  },
  {
   "cell_type": "code",
   "execution_count": 4,
   "metadata": {},
   "outputs": [
    {
     "name": "stdin",
     "output_type": "stream",
     "text": [
      "Enter the length of the rectangle(in cm):  3\n",
      "Enter the width of the rectangle(in cm):  44\n"
     ]
    },
    {
     "name": "stdout",
     "output_type": "stream",
     "text": [
      "The area of the rectangle is: 132.0\n"
     ]
    }
   ],
   "source": [
    "# Prompt the user to enter the length and width of the rectangle\n",
    "length = float(input(\"Enter the length of the rectangle(in cm): \"))\n",
    "width = float(input(\"Enter the width of the rectangle(in cm): \"))\n",
    "\n",
    "# Calculate the area of the rectangle\n",
    "area = length * width\n",
    "\n",
    "# Print the calculated area\n",
    "print(\"The area of the rectangle is:\", area)"
   ]
  },
  {
   "cell_type": "code",
   "execution_count": 5,
   "metadata": {},
   "outputs": [
    {
     "name": "stdin",
     "output_type": "stream",
     "text": [
      "Enter the first number:  3\n",
      "Enter the second number:  2\n",
      "Enter the third number:  4\n"
     ]
    },
    {
     "name": "stdout",
     "output_type": "stream",
     "text": [
      "The average of the three numbers is: 3.00\n"
     ]
    }
   ],
   "source": [
    "# Get three numbers from the user\n",
    "num1 = float(input(\"Enter the first number: \"))\n",
    "num2 = float(input(\"Enter the second number: \"))\n",
    "num3 = float(input(\"Enter the third number: \"))\n",
    "\n",
    "# Calculate the average\n",
    "average = (num1 + num2 + num3) / 3\n",
    "\n",
    "# Print the average using string formatting\n",
    "print(\"The average of the three numbers is: %.2f\" % average)"
   ]
  },
  {
   "cell_type": "code",
   "execution_count": 6,
   "metadata": {},
   "outputs": [
    {
     "name": "stdin",
     "output_type": "stream",
     "text": [
      "Enter a number (or 'exit' to quit):  3\n"
     ]
    },
    {
     "name": "stdout",
     "output_type": "stream",
     "text": [
      "3.0 is positive.\n"
     ]
    },
    {
     "name": "stdin",
     "output_type": "stream",
     "text": [
      "Enter a number (or 'exit' to quit):  -2\n"
     ]
    },
    {
     "name": "stdout",
     "output_type": "stream",
     "text": [
      "-2.0 is negative.\n"
     ]
    },
    {
     "name": "stdin",
     "output_type": "stream",
     "text": [
      "Enter a number (or 'exit' to quit):  0\n"
     ]
    },
    {
     "name": "stdout",
     "output_type": "stream",
     "text": [
      "0.0 is zero.\n"
     ]
    },
    {
     "name": "stdin",
     "output_type": "stream",
     "text": [
      "Enter a number (or 'exit' to quit):  exit\n"
     ]
    }
   ],
   "source": [
    "while True:\n",
    "    # Get input from the user\n",
    "    number = input(\"Enter a number (or 'exit' to quit): \")\n",
    "\n",
    "    # Check if the user wants to exit the loop\n",
    "    if number == \"exit\":\n",
    "        break\n",
    "\n",
    "    # Convert the input to a float\n",
    "    number = float(number)\n",
    "\n",
    "    # Determine if the number is positive, negative, or zero\n",
    "    if number > 0:\n",
    "        print(number, \"is positive.\")\n",
    "    elif number < 0:\n",
    "        print(number, \"is negative.\")\n",
    "    else:\n",
    "        print(number, \"is zero.\")"
   ]
  },
  {
   "cell_type": "code",
   "execution_count": 7,
   "metadata": {},
   "outputs": [
    {
     "name": "stdin",
     "output_type": "stream",
     "text": [
      "Enter the first number:  3\n",
      "Enter the second number:  2\n"
     ]
    },
    {
     "name": "stdout",
     "output_type": "stream",
     "text": [
      "One number is even and the other is odd.\n"
     ]
    }
   ],
   "source": [
    "# Get input from the user\n",
    "num1 = int(input(\"Enter the first number: \"))\n",
    "num2 = int(input(\"Enter the second number: \"))\n",
    "\n",
    "# Check if both numbers are even\n",
    "if num1 % 2 == 0 and num2 % 2 == 0:\n",
    "    print(\"Both numbers are even.\")\n",
    "\n",
    "# Check if both numbers are odd\n",
    "elif num1 % 2 != 0 and num2 % 2 != 0:\n",
    "    print(\"Both numbers are odd.\")\n",
    "\n",
    "# If neither of the above conditions is true, one number is even and the other is odd\n",
    "else:\n",
    "    print(\"One number is even and the other is odd.\")"
   ]
  },
  {
   "cell_type": "code",
   "execution_count": 10,
   "metadata": {},
   "outputs": [
    {
     "name": "stdin",
     "output_type": "stream",
     "text": [
      "Enter an integer:  1\n"
     ]
    },
    {
     "name": "stdout",
     "output_type": "stream",
     "text": [
      "Binary: 1\n",
      "Octal: 1\n",
      "Hexadecimal: 1\n"
     ]
    }
   ],
   "source": [
    "def int_to_binary(num):\n",
    "  \"\"\"Converts an integer to  binary representation.\"\"\"\n",
    "  binary = \"\"\n",
    "  while num > 0:\n",
    "    binary = str(num % 2) + binary\n",
    "    num //= 2\n",
    "  return binary\n",
    "\n",
    "def int_to_octal(num):\n",
    "  \"\"\"Converts an integer to octal representation.\"\"\"\n",
    "  octal = \"\"\n",
    "  while num > 0:\n",
    "    octal = str(num % 8) + octal\n",
    "    num //= 8\n",
    "  return octal\n",
    "\n",
    "def int_to_hexadecimal(num):\n",
    "  \"\"\"Converts an integer to its hexadecimal representation.\"\"\"\n",
    "  hexadecimal = \"\"\n",
    "  while num > 0:\n",
    "    hexadecimal = str(hex(num % 16)[2:]) + hexadecimal\n",
    "    num //= 16\n",
    "  return hexadecimal\n",
    "\n",
    "# Get input from the user\n",
    "num = int(input(\"Enter an integer: \"))\n",
    "\n",
    "# Print the binary, octal, and hexadecimal equivalents\n",
    "print(\"Binary:\", int_to_binary(num))\n",
    "print(\"Octal:\", int_to_octal(num))\n",
    "print(\"Hexadecimal:\", int_to_hexadecimal(num))"
   ]
  },
  {
   "cell_type": "code",
   "execution_count": null,
   "metadata": {},
   "outputs": [],
   "source": []
  }
 ],
 "metadata": {
  "kernelspec": {
   "display_name": "Python 3 (ipykernel)",
   "language": "python",
   "name": "python3"
  },
  "language_info": {
   "codemirror_mode": {
    "name": "ipython",
    "version": 3
   },
   "file_extension": ".py",
   "mimetype": "text/x-python",
   "name": "python",
   "nbconvert_exporter": "python",
   "pygments_lexer": "ipython3",
   "version": "3.12.4"
  }
 },
 "nbformat": 4,
 "nbformat_minor": 4
}
